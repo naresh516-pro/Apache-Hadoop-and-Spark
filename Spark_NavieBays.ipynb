{
  "nbformat": 4,
  "nbformat_minor": 0,
  "metadata": {
    "colab": {
      "provenance": []
    },
    "kernelspec": {
      "name": "python3",
      "display_name": "Python 3"
    },
    "language_info": {
      "name": "python"
    }
  },
  "cells": [
    {
      "cell_type": "code",
      "execution_count": null,
      "metadata": {
        "colab": {
          "base_uri": "https://localhost:8080/"
        },
        "id": "S8b8Y4hiQ-at",
        "outputId": "d8583d8d-247a-4ee7-919f-60eb34a439bb"
      },
      "outputs": [
        {
          "output_type": "stream",
          "name": "stdout",
          "text": [
            "Requirement already satisfied: pyspark in /usr/local/lib/python3.10/dist-packages (3.5.3)\n",
            "Requirement already satisfied: py4j==0.10.9.7 in /usr/local/lib/python3.10/dist-packages (from pyspark) (0.10.9.7)\n"
          ]
        }
      ],
      "source": [
        "# prompt: generate code for spark navie bays with /content/NB.csv data set\n",
        "!pip install pyspark"
      ]
    },
    {
      "cell_type": "code",
      "source": [
        "from pyspark.sql import SparkSession\n",
        "from pyspark.ml.feature import StringIndexer, VectorAssembler\n",
        "from pyspark.ml.classification import NaiveBayes\n",
        "from pyspark.ml.evaluation import MulticlassClassificationEvaluator"
      ],
      "metadata": {
        "id": "eDdEC6uXRrRV"
      },
      "execution_count": null,
      "outputs": []
    },
    {
      "cell_type": "code",
      "source": [
        "# Create a SparkSession\n",
        "spark = SparkSession.builder.appName(\"NaiveBayesExample\").getOrCreate()"
      ],
      "metadata": {
        "id": "Wc8rkJHNRjzB"
      },
      "execution_count": null,
      "outputs": []
    },
    {
      "cell_type": "code",
      "source": [
        "# Load the data\n",
        "data = spark.read.csv(\"/content/NB.csv\", header=True, inferSchema=True)\n",
        "data.show()"
      ],
      "metadata": {
        "colab": {
          "base_uri": "https://localhost:8080/"
        },
        "id": "fE0KT-rHRj2j",
        "outputId": "19c7fc38-3923-4a0c-8d6c-975d658e2760"
      },
      "execution_count": null,
      "outputs": [
        {
          "output_type": "stream",
          "name": "stdout",
          "text": [
            "+--------+-----------+--------+-----+----+\n",
            "| Outlook|Temperature|Humidity|Windy|Play|\n",
            "+--------+-----------+--------+-----+----+\n",
            "|   Sunny|        Hot|    High|   No|  No|\n",
            "|   Sunny|        Hot|    High|  Yes|  No|\n",
            "|Overcast|        Hot|    High|   No| Yes|\n",
            "|   Rainy|       Mild|    High|   No| Yes|\n",
            "|   Rainy|       Cool|  Normal|   No| Yes|\n",
            "|   Rainy|       Cool|  Normal|  Yes|  No|\n",
            "|Overcast|       Cool|  Normal|  Yes| Yes|\n",
            "|   Sunny|       Mild|    High|   No|  No|\n",
            "|   Sunny|       Cool|  Normal|   No| Yes|\n",
            "|   Rainy|       Mild|  Normal|   No| Yes|\n",
            "|   Sunny|       Mild|  Normal|  Yes| Yes|\n",
            "|Overcast|       Mild|    High|  Yes| Yes|\n",
            "|Overcast|        Hot|  Normal|   No| Yes|\n",
            "|   Rainy|       Mild|    High|  Yes|  No|\n",
            "+--------+-----------+--------+-----+----+\n",
            "\n"
          ]
        }
      ]
    },
    {
      "cell_type": "code",
      "source": [
        "# Assuming your CSV has a column named \"label\" for the target variable\n",
        "# and other columns for features\n",
        "\n",
        "# Prepare the data\n",
        "# Convert string columns to numerical indices using StringIndexer\n",
        "# ... (if you have string columns)\n",
        "\n",
        "# List of categorical columns to be indexed\n",
        "categoricalCols = [\"Outlook\", \"Temperature\", \"Humidity\", \"Windy\"]\n",
        "\n",
        "# Create and apply StringIndexer for each categorical column\n",
        "indexers = [StringIndexer(inputCol=col, outputCol=col + \"_index\") for col in categoricalCols]\n",
        "for indexer in indexers:\n",
        "    data = indexer.fit(data).transform(data)\n",
        "\n",
        "# Assemble features into a vector using indexed columns\n",
        "assembler = VectorAssembler(inputCols=[col + \"_index\" for col in categoricalCols], outputCol=\"features\")\n",
        "data = assembler.transform(data)\n",
        "\n",
        "# Import necessary libraries\n",
        "from pyspark.ml.feature import StringIndexer\n",
        "\n",
        "# Assuming 'Play' is the column with string values like \"Yes\" and \"No\"\n",
        "# Create a StringIndexer to convert 'Play' to numerical labels\n",
        "indexer = StringIndexer(inputCol=\"Play\", outputCol=\"Play_index\")\n",
        "\n",
        "data.show()"
      ],
      "metadata": {
        "colab": {
          "base_uri": "https://localhost:8080/"
        },
        "id": "LWaWURriRj5q",
        "outputId": "f1c36b47-4355-49ce-b093-c7add899e077"
      },
      "execution_count": null,
      "outputs": [
        {
          "output_type": "stream",
          "name": "stdout",
          "text": [
            "+--------+-----------+--------+-----+----+-------------+-----------------+--------------+-----------+-----------------+\n",
            "| Outlook|Temperature|Humidity|Windy|Play|Outlook_index|Temperature_index|Humidity_index|Windy_index|         features|\n",
            "+--------+-----------+--------+-----+----+-------------+-----------------+--------------+-----------+-----------------+\n",
            "|   Sunny|        Hot|    High|   No|  No|          1.0|              2.0|           0.0|        0.0|[1.0,2.0,0.0,0.0]|\n",
            "|   Sunny|        Hot|    High|  Yes|  No|          1.0|              2.0|           0.0|        1.0|[1.0,2.0,0.0,1.0]|\n",
            "|Overcast|        Hot|    High|   No| Yes|          2.0|              2.0|           0.0|        0.0|[2.0,2.0,0.0,0.0]|\n",
            "|   Rainy|       Mild|    High|   No| Yes|          0.0|              0.0|           0.0|        0.0|        (4,[],[])|\n",
            "|   Rainy|       Cool|  Normal|   No| Yes|          0.0|              1.0|           1.0|        0.0|[0.0,1.0,1.0,0.0]|\n",
            "|   Rainy|       Cool|  Normal|  Yes|  No|          0.0|              1.0|           1.0|        1.0|[0.0,1.0,1.0,1.0]|\n",
            "|Overcast|       Cool|  Normal|  Yes| Yes|          2.0|              1.0|           1.0|        1.0|[2.0,1.0,1.0,1.0]|\n",
            "|   Sunny|       Mild|    High|   No|  No|          1.0|              0.0|           0.0|        0.0|    (4,[0],[1.0])|\n",
            "|   Sunny|       Cool|  Normal|   No| Yes|          1.0|              1.0|           1.0|        0.0|[1.0,1.0,1.0,0.0]|\n",
            "|   Rainy|       Mild|  Normal|   No| Yes|          0.0|              0.0|           1.0|        0.0|    (4,[2],[1.0])|\n",
            "|   Sunny|       Mild|  Normal|  Yes| Yes|          1.0|              0.0|           1.0|        1.0|[1.0,0.0,1.0,1.0]|\n",
            "|Overcast|       Mild|    High|  Yes| Yes|          2.0|              0.0|           0.0|        1.0|[2.0,0.0,0.0,1.0]|\n",
            "|Overcast|        Hot|  Normal|   No| Yes|          2.0|              2.0|           1.0|        0.0|[2.0,2.0,1.0,0.0]|\n",
            "|   Rainy|       Mild|    High|  Yes|  No|          0.0|              0.0|           0.0|        1.0|    (4,[3],[1.0])|\n",
            "+--------+-----------+--------+-----+----+-------------+-----------------+--------------+-----------+-----------------+\n",
            "\n"
          ]
        }
      ]
    },
    {
      "cell_type": "code",
      "source": [],
      "metadata": {
        "id": "o8ikv7RvbaZS"
      },
      "execution_count": null,
      "outputs": []
    },
    {
      "cell_type": "code",
      "source": [
        "# Split the data into training and testing sets\n",
        "(trainingData, testData) = data.randomSplit([0.7, 0.3])"
      ],
      "metadata": {
        "id": "8KKXvwVmRj8y"
      },
      "execution_count": null,
      "outputs": []
    },
    {
      "cell_type": "code",
      "source": [
        "# Apply the StringIndexer to both trainingData and testData\n",
        "# (This is the fix)\n",
        "trainingData = indexer.fit(trainingData).transform(trainingData)\n",
        "testData = indexer.fit(testData).transform(testData)"
      ],
      "metadata": {
        "id": "0Li-SFu4gOZ5"
      },
      "execution_count": null,
      "outputs": []
    },
    {
      "cell_type": "code",
      "source": [
        "# Create a Naive Bayes model\n",
        "# Specify the label and features columns\n",
        "nb = NaiveBayes(featuresCol=\"features\", labelCol=\"Play_index\", smoothing=1.0, modelType=\"multinomial\")"
      ],
      "metadata": {
        "id": "iaSBbr0HRkAF"
      },
      "execution_count": null,
      "outputs": []
    },
    {
      "cell_type": "code",
      "source": [
        "# Train the model\n",
        "model = nb.fit(trainingData)"
      ],
      "metadata": {
        "id": "7BRPtTKcRkC9"
      },
      "execution_count": null,
      "outputs": []
    },
    {
      "cell_type": "code",
      "source": [
        "# Make predictions on the test data\n",
        "predictions = model.transform(testData)"
      ],
      "metadata": {
        "id": "BpKIvsEWRkF0"
      },
      "execution_count": null,
      "outputs": []
    },
    {
      "cell_type": "code",
      "source": [
        "# Evaluate the model\n",
        "evaluator = MulticlassClassificationEvaluator(\n",
        "    labelCol=\"Play_index\", predictionCol=\"prediction\", metricName=\"accuracy\")\n",
        "accuracy = evaluator.evaluate(predictions)\n",
        "print(\"Accuracy:\", accuracy)"
      ],
      "metadata": {
        "id": "IGRALN2aR_5T",
        "colab": {
          "base_uri": "https://localhost:8080/"
        },
        "outputId": "7c769769-ed3e-4b3f-b72c-6c3244a993be"
      },
      "execution_count": null,
      "outputs": [
        {
          "output_type": "stream",
          "name": "stdout",
          "text": [
            "Accuracy: 0.5\n"
          ]
        }
      ]
    },
    {
      "cell_type": "code",
      "source": [],
      "metadata": {
        "id": "0Pn4CTEjRkJP"
      },
      "execution_count": null,
      "outputs": []
    }
  ]
}