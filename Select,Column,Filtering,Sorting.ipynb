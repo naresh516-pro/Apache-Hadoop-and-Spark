{
  "nbformat": 4,
  "nbformat_minor": 0,
  "metadata": {
    "colab": {
      "provenance": []
    },
    "kernelspec": {
      "name": "python3",
      "display_name": "Python 3"
    },
    "language_info": {
      "name": "python"
    }
  },
  "cells": [
    {
      "cell_type": "code",
      "execution_count": null,
      "metadata": {
        "colab": {
          "base_uri": "https://localhost:8080/"
        },
        "id": "seNFIMTfs_kL",
        "outputId": "7a9ebe14-78c6-48ee-fcac-b5afa3fed72b"
      },
      "outputs": [
        {
          "output_type": "stream",
          "name": "stdout",
          "text": [
            "Collecting pyspark\n",
            "  Downloading pyspark-3.5.3.tar.gz (317.3 MB)\n",
            "\u001b[2K     \u001b[90m━━━━━━━━━━━━━━━━━━━━━━━━━━━━━━━━━━━━━━━━\u001b[0m \u001b[32m317.3/317.3 MB\u001b[0m \u001b[31m4.9 MB/s\u001b[0m eta \u001b[36m0:00:00\u001b[0m\n",
            "\u001b[?25h  Preparing metadata (setup.py) ... \u001b[?25l\u001b[?25hdone\n",
            "Requirement already satisfied: py4j==0.10.9.7 in /usr/local/lib/python3.10/dist-packages (from pyspark) (0.10.9.7)\n",
            "Building wheels for collected packages: pyspark\n",
            "  Building wheel for pyspark (setup.py) ... \u001b[?25l\u001b[?25hdone\n",
            "  Created wheel for pyspark: filename=pyspark-3.5.3-py2.py3-none-any.whl size=317840625 sha256=9cb983093bece0f28f5a02e8402645f1fa38be9c8f1c0d8b82af05a603e14bc1\n",
            "  Stored in directory: /root/.cache/pip/wheels/1b/3a/92/28b93e2fbfdbb07509ca4d6f50c5e407f48dce4ddbda69a4ab\n",
            "Successfully built pyspark\n",
            "Installing collected packages: pyspark\n",
            "Successfully installed pyspark-3.5.3\n"
          ]
        }
      ],
      "source": [
        "!pip install pyspark"
      ]
    },
    {
      "cell_type": "code",
      "source": [
        "#Import SparkSession\n",
        "from pyspark.sql import SparkSession\n",
        "\n",
        "#Create sparkSession\n",
        "spark=SparkSession.builder.getOrCreate()"
      ],
      "metadata": {
        "id": "gByrjQCqtW7a"
      },
      "execution_count": null,
      "outputs": []
    },
    {
      "cell_type": "code",
      "source": [
        "data=[(\"James\",\"Smith\",\"USA\",\"CA\"),\n",
        "      (\"Michael\",\"Rose\",\"USA\",\"NY\"),\n",
        "      (\"Maria\",\"Jones\",\"USA\",\"FL\")]\n",
        "columns=[\"firstname\",\"lastname\",\"country\",\"state\"]\n",
        "df=spark.createDataFrame(data=data,schema=columns)\n",
        "df.show(truncate=False)"
      ],
      "metadata": {
        "colab": {
          "base_uri": "https://localhost:8080/"
        },
        "id": "eSqQ3NEYtntF",
        "outputId": "003e0793-fed3-4cee-aef5-75e7c7a6c91a"
      },
      "execution_count": null,
      "outputs": [
        {
          "output_type": "stream",
          "name": "stdout",
          "text": [
            "+---------+--------+-------+-----+\n",
            "|firstname|lastname|country|state|\n",
            "+---------+--------+-------+-----+\n",
            "|James    |Smith   |USA    |CA   |\n",
            "|Michael  |Rose    |USA    |NY   |\n",
            "|Maria    |Jones   |USA    |FL   |\n",
            "+---------+--------+-------+-----+\n",
            "\n"
          ]
        }
      ]
    },
    {
      "cell_type": "code",
      "source": [
        "df.select(\"firstname\",\"lastname\").show()\n",
        "df.select(df[\"firstname\"],df[\"lastname\"]).show()\n",
        "df.select(df.firstname,df.lastname).show()\n",
        "\n",
        "#By using col() function\n",
        "from pyspark.sql.functions import col\n",
        "df.select(col(\"firstname\"),col(\"lastname\")).show()\n",
        "\n",
        "#select columns by regular expression\n",
        "# df.select(df.colRegex(\"`^.*name*`\")).show()"
      ],
      "metadata": {
        "colab": {
          "base_uri": "https://localhost:8080/"
        },
        "id": "fOElBW-HuZ2E",
        "outputId": "c53b4678-eab2-42ec-c2a2-481a7e6ec22d"
      },
      "execution_count": null,
      "outputs": [
        {
          "output_type": "stream",
          "name": "stdout",
          "text": [
            "+---------+--------+\n",
            "|firstname|lastname|\n",
            "+---------+--------+\n",
            "|    James|   Smith|\n",
            "|  Michael|    Rose|\n",
            "|    Maria|   Jones|\n",
            "+---------+--------+\n",
            "\n",
            "+---------+--------+\n",
            "|firstname|lastname|\n",
            "+---------+--------+\n",
            "|    James|   Smith|\n",
            "|  Michael|    Rose|\n",
            "|    Maria|   Jones|\n",
            "+---------+--------+\n",
            "\n",
            "+---------+--------+\n",
            "|firstname|lastname|\n",
            "+---------+--------+\n",
            "|    James|   Smith|\n",
            "|  Michael|    Rose|\n",
            "|    Maria|   Jones|\n",
            "+---------+--------+\n",
            "\n",
            "+---------+--------+\n",
            "|firstname|lastname|\n",
            "+---------+--------+\n",
            "|    James|   Smith|\n",
            "|  Michael|    Rose|\n",
            "|    Maria|   Jones|\n",
            "+---------+--------+\n",
            "\n",
            "+---------+--------+\n",
            "|firstname|lastname|\n",
            "+---------+--------+\n",
            "|    James|   Smith|\n",
            "|  Michael|    Rose|\n",
            "|    Maria|   Jones|\n",
            "+---------+--------+\n",
            "\n"
          ]
        }
      ]
    },
    {
      "cell_type": "code",
      "source": [
        "# Select all the columns from List\n",
        "df.select(*columns).show()\n",
        "\n",
        "\n",
        "#Select all the columns\n",
        "df.select([col for col in df.columns]).show()\n",
        "\n",
        "#Select all the columns\n",
        "df.select(\"*\").show()"
      ],
      "metadata": {
        "colab": {
          "base_uri": "https://localhost:8080/"
        },
        "id": "PSrH2POcvaOH",
        "outputId": "11eedd4e-3601-44d1-c6eb-0fc6f8b500f9"
      },
      "execution_count": null,
      "outputs": [
        {
          "output_type": "stream",
          "name": "stdout",
          "text": [
            "+---------+--------+-------+-----+\n",
            "|firstname|lastname|country|state|\n",
            "+---------+--------+-------+-----+\n",
            "|    James|   Smith|    USA|   CA|\n",
            "|  Michael|    Rose|    USA|   NY|\n",
            "|    Maria|   Jones|    USA|   FL|\n",
            "+---------+--------+-------+-----+\n",
            "\n",
            "+---------+--------+-------+-----+\n",
            "|firstname|lastname|country|state|\n",
            "+---------+--------+-------+-----+\n",
            "|    James|   Smith|    USA|   CA|\n",
            "|  Michael|    Rose|    USA|   NY|\n",
            "|    Maria|   Jones|    USA|   FL|\n",
            "+---------+--------+-------+-----+\n",
            "\n",
            "+---------+--------+-------+-----+\n",
            "|firstname|lastname|country|state|\n",
            "+---------+--------+-------+-----+\n",
            "|    James|   Smith|    USA|   CA|\n",
            "|  Michael|    Rose|    USA|   NY|\n",
            "|    Maria|   Jones|    USA|   FL|\n",
            "+---------+--------+-------+-----+\n",
            "\n"
          ]
        }
      ]
    },
    {
      "cell_type": "code",
      "source": [
        "# Select first 3 columns and top 3 rows\n",
        "df.select(df.columns[:3]).show(3)\n",
        "\n",
        "# Select all the columns\n",
        "df.select(df.columns).show()\n",
        "\n",
        "df.select(\"*\").show()\n",
        "\n",
        "#Select columns 2 to 4 and top rows\n",
        "df.select(df.columns[2:4]).show(3)"
      ],
      "metadata": {
        "colab": {
          "base_uri": "https://localhost:8080/"
        },
        "id": "5tGHbNE9vzQF",
        "outputId": "b33788a5-a668-44c9-ca8b-8f24143c6999"
      },
      "execution_count": null,
      "outputs": [
        {
          "output_type": "stream",
          "name": "stdout",
          "text": [
            "+---------+--------+-------+\n",
            "|firstname|lastname|country|\n",
            "+---------+--------+-------+\n",
            "|    James|   Smith|    USA|\n",
            "|  Michael|    Rose|    USA|\n",
            "|    Maria|   Jones|    USA|\n",
            "+---------+--------+-------+\n",
            "\n",
            "+---------+--------+-------+-----+\n",
            "|firstname|lastname|country|state|\n",
            "+---------+--------+-------+-----+\n",
            "|    James|   Smith|    USA|   CA|\n",
            "|  Michael|    Rose|    USA|   NY|\n",
            "|    Maria|   Jones|    USA|   FL|\n",
            "+---------+--------+-------+-----+\n",
            "\n",
            "+---------+--------+-------+-----+\n",
            "|firstname|lastname|country|state|\n",
            "+---------+--------+-------+-----+\n",
            "|    James|   Smith|    USA|   CA|\n",
            "|  Michael|    Rose|    USA|   NY|\n",
            "|    Maria|   Jones|    USA|   FL|\n",
            "+---------+--------+-------+-----+\n",
            "\n",
            "+-------+-----+\n",
            "|country|state|\n",
            "+-------+-----+\n",
            "|    USA|   CA|\n",
            "|    USA|   NY|\n",
            "|    USA|   FL|\n",
            "+-------+-----+\n",
            "\n"
          ]
        }
      ]
    },
    {
      "cell_type": "code",
      "source": [
        "data=[('James','','Smith','1991-04-01','M',3000),\n",
        "      ('Michael','Rose','','2000-05-19',' M',4000),\n",
        "      ('Robert','','Williams','1978-09-05','M',4000),\n",
        "      ('Maria','Anne','Jones','1967-12-01','F',4000),\n",
        "      ('Jen','Mary','Brown','1980-02-27','F',-1)\n",
        "      ]\n",
        "columns=['firstname','middlename','lastname','dob','gender','salary']\n",
        "df=spark.createDataFrame(data=data,schema=columns)\n",
        "df.show()"
      ],
      "metadata": {
        "colab": {
          "base_uri": "https://localhost:8080/"
        },
        "id": "kmskP3d7weRR",
        "outputId": "9bcb0e88-0848-4c39-ed14-381514a490ec"
      },
      "execution_count": null,
      "outputs": [
        {
          "output_type": "stream",
          "name": "stdout",
          "text": [
            "+---------+----------+--------+----------+------+------+\n",
            "|firstname|middlename|lastname|       dob|gender|salary|\n",
            "+---------+----------+--------+----------+------+------+\n",
            "|    James|          |   Smith|1991-04-01|     M|  3000|\n",
            "|  Michael|      Rose|        |2000-05-19|     M|  4000|\n",
            "|   Robert|          |Williams|1978-09-05|     M|  4000|\n",
            "|    Maria|      Anne|   Jones|1967-12-01|     F|  4000|\n",
            "|      Jen|      Mary|   Brown|1980-02-27|     F|    -1|\n",
            "+---------+----------+--------+----------+------+------+\n",
            "\n"
          ]
        }
      ]
    },
    {
      "cell_type": "code",
      "source": [
        "df.withColumn(\"Salary1\",col(\"salary\").cast(\"Integer\")).show()\n",
        "df.withColumn(\"Salary1\",col(\"salary\").cast(\"Integer\")).printSchema()"
      ],
      "metadata": {
        "colab": {
          "base_uri": "https://localhost:8080/"
        },
        "id": "dMa3rMeux9m0",
        "outputId": "2405cc59-a73e-4306-a106-3c8c19288ce1"
      },
      "execution_count": null,
      "outputs": [
        {
          "output_type": "stream",
          "name": "stdout",
          "text": [
            "+---------+----------+--------+----------+------+------+-------+\n",
            "|firstname|middlename|lastname|       dob|gender|salary|Salary1|\n",
            "+---------+----------+--------+----------+------+------+-------+\n",
            "|    James|          |   Smith|1991-04-01|     M|  3000|   3000|\n",
            "|  Michael|      Rose|        |2000-05-19|     M|  4000|   4000|\n",
            "|   Robert|          |Williams|1978-09-05|     M|  4000|   4000|\n",
            "|    Maria|      Anne|   Jones|1967-12-01|     F|  4000|   4000|\n",
            "|      Jen|      Mary|   Brown|1980-02-27|     F|    -1|     -1|\n",
            "+---------+----------+--------+----------+------+------+-------+\n",
            "\n",
            "root\n",
            " |-- firstname: string (nullable = true)\n",
            " |-- middlename: string (nullable = true)\n",
            " |-- lastname: string (nullable = true)\n",
            " |-- dob: string (nullable = true)\n",
            " |-- gender: string (nullable = true)\n",
            " |-- salary: long (nullable = true)\n",
            " |-- Salary1: integer (nullable = true)\n",
            "\n"
          ]
        }
      ]
    },
    {
      "cell_type": "code",
      "source": [
        "df.withColumn(\"Salary1\",col(\"salary\")*100).show()\n",
        "df.withColumn(\"Salary2\",col(\"salary\")*200).show()"
      ],
      "metadata": {
        "colab": {
          "base_uri": "https://localhost:8080/"
        },
        "id": "ZMgMrxidN1Qt",
        "outputId": "523aea3d-6a0e-45e5-8828-eb8845200fe0"
      },
      "execution_count": null,
      "outputs": [
        {
          "output_type": "stream",
          "name": "stdout",
          "text": [
            "+---------+----------+--------+----------+------+------+-------+\n",
            "|firstname|middlename|lastname|       dob|gender|salary|Salary1|\n",
            "+---------+----------+--------+----------+------+------+-------+\n",
            "|    James|          |   Smith|1991-04-01|     M|  3000| 300000|\n",
            "|  Michael|      Rose|        |2000-05-19|     M|  4000| 400000|\n",
            "|   Robert|          |Williams|1978-09-05|     M|  4000| 400000|\n",
            "|    Maria|      Anne|   Jones|1967-12-01|     F|  4000| 400000|\n",
            "|      Jen|      Mary|   Brown|1980-02-27|     F|    -1|   -100|\n",
            "+---------+----------+--------+----------+------+------+-------+\n",
            "\n",
            "+---------+----------+--------+----------+------+------+-------+\n",
            "|firstname|middlename|lastname|       dob|gender|salary|Salary2|\n",
            "+---------+----------+--------+----------+------+------+-------+\n",
            "|    James|          |   Smith|1991-04-01|     M|  3000| 600000|\n",
            "|  Michael|      Rose|        |2000-05-19|     M|  4000| 800000|\n",
            "|   Robert|          |Williams|1978-09-05|     M|  4000| 800000|\n",
            "|    Maria|      Anne|   Jones|1967-12-01|     F|  4000| 800000|\n",
            "|      Jen|      Mary|   Brown|1980-02-27|     F|    -1|   -200|\n",
            "+---------+----------+--------+----------+------+------+-------+\n",
            "\n"
          ]
        }
      ]
    },
    {
      "cell_type": "code",
      "source": [
        "df.withColumn(\"CopiedColumn\",col(\"salary\")* -1).show()"
      ],
      "metadata": {
        "colab": {
          "base_uri": "https://localhost:8080/"
        },
        "id": "2wsTlR3COZv6",
        "outputId": "b4f15a7a-5105-413f-c9a9-44c9a9348996"
      },
      "execution_count": null,
      "outputs": [
        {
          "output_type": "stream",
          "name": "stdout",
          "text": [
            "+---------+----------+--------+----------+------+------+------------+\n",
            "|firstname|middlename|lastname|       dob|gender|salary|CopiedColumn|\n",
            "+---------+----------+--------+----------+------+------+------------+\n",
            "|    James|          |   Smith|1991-04-01|     M|  3000|       -3000|\n",
            "|  Michael|      Rose|        |2000-05-19|     M|  4000|       -4000|\n",
            "|   Robert|          |Williams|1978-09-05|     M|  4000|       -4000|\n",
            "|    Maria|      Anne|   Jones|1967-12-01|     F|  4000|       -4000|\n",
            "|      Jen|      Mary|   Brown|1980-02-27|     F|    -1|           1|\n",
            "+---------+----------+--------+----------+------+------+------------+\n",
            "\n"
          ]
        }
      ]
    },
    {
      "cell_type": "code",
      "source": [
        "from pyspark.sql.functions import lit,col\n",
        "df.withColumn(\"Country\",lit(\"USA\")).show()\n",
        "df.withColumn(\"Country\",lit(\"USA\")).withColumn(\"anotherColumn\",col(\"salary\")* -1).show()"
      ],
      "metadata": {
        "colab": {
          "base_uri": "https://localhost:8080/"
        },
        "id": "SvpvWm_OO585",
        "outputId": "946ac3cf-ebef-41ba-92e8-889d3cf6d52d"
      },
      "execution_count": null,
      "outputs": [
        {
          "output_type": "stream",
          "name": "stdout",
          "text": [
            "+---------+----------+--------+----------+------+------+-------+\n",
            "|firstname|middlename|lastname|       dob|gender|salary|Country|\n",
            "+---------+----------+--------+----------+------+------+-------+\n",
            "|    James|          |   Smith|1991-04-01|     M|  3000|    USA|\n",
            "|  Michael|      Rose|        |2000-05-19|     M|  4000|    USA|\n",
            "|   Robert|          |Williams|1978-09-05|     M|  4000|    USA|\n",
            "|    Maria|      Anne|   Jones|1967-12-01|     F|  4000|    USA|\n",
            "|      Jen|      Mary|   Brown|1980-02-27|     F|    -1|    USA|\n",
            "+---------+----------+--------+----------+------+------+-------+\n",
            "\n",
            "+---------+----------+--------+----------+------+------+-------+-------------+\n",
            "|firstname|middlename|lastname|       dob|gender|salary|Country|anotherColumn|\n",
            "+---------+----------+--------+----------+------+------+-------+-------------+\n",
            "|    James|          |   Smith|1991-04-01|     M|  3000|    USA|        -3000|\n",
            "|  Michael|      Rose|        |2000-05-19|     M|  4000|    USA|        -4000|\n",
            "|   Robert|          |Williams|1978-09-05|     M|  4000|    USA|        -4000|\n",
            "|    Maria|      Anne|   Jones|1967-12-01|     F|  4000|    USA|        -4000|\n",
            "|      Jen|      Mary|   Brown|1980-02-27|     F|    -1|    USA|            1|\n",
            "+---------+----------+--------+----------+------+------+-------+-------------+\n",
            "\n"
          ]
        }
      ]
    },
    {
      "cell_type": "code",
      "source": [
        "# To Rename the column name\n",
        "df.withColumnRenamed(\"gender\",\"sex\").show(truncate=False)"
      ],
      "metadata": {
        "colab": {
          "base_uri": "https://localhost:8080/"
        },
        "id": "tbGFsBD1Pr34",
        "outputId": "12e46fcf-1b55-4b26-e174-4cae8b354b0f"
      },
      "execution_count": null,
      "outputs": [
        {
          "output_type": "stream",
          "name": "stdout",
          "text": [
            "+---------+----------+--------+----------+---+------+\n",
            "|firstname|middlename|lastname|dob       |sex|salary|\n",
            "+---------+----------+--------+----------+---+------+\n",
            "|James    |          |Smith   |1991-04-01|M  |3000  |\n",
            "|Michael  |Rose      |        |2000-05-19| M |4000  |\n",
            "|Robert   |          |Williams|1978-09-05|M  |4000  |\n",
            "|Maria    |Anne      |Jones   |1967-12-01|F  |4000  |\n",
            "|Jen      |Mary      |Brown   |1980-02-27|F  |-1    |\n",
            "+---------+----------+--------+----------+---+------+\n",
            "\n"
          ]
        }
      ]
    },
    {
      "cell_type": "code",
      "source": [
        "#To drop the column name\n",
        "df.drop(\"salary\").show()\n",
        "\n",
        "#To drop the column name\n",
        "df.drop(df.salary,df.gender).show()"
      ],
      "metadata": {
        "colab": {
          "base_uri": "https://localhost:8080/"
        },
        "id": "O36R9yKUQBHE",
        "outputId": "94807563-1826-4bc2-95ad-6940c81c8c61"
      },
      "execution_count": null,
      "outputs": [
        {
          "output_type": "stream",
          "name": "stdout",
          "text": [
            "+---------+----------+--------+----------+------+\n",
            "|firstname|middlename|lastname|       dob|gender|\n",
            "+---------+----------+--------+----------+------+\n",
            "|    James|          |   Smith|1991-04-01|     M|\n",
            "|  Michael|      Rose|        |2000-05-19|     M|\n",
            "|   Robert|          |Williams|1978-09-05|     M|\n",
            "|    Maria|      Anne|   Jones|1967-12-01|     F|\n",
            "|      Jen|      Mary|   Brown|1980-02-27|     F|\n",
            "+---------+----------+--------+----------+------+\n",
            "\n",
            "+---------+----------+--------+----------+\n",
            "|firstname|middlename|lastname|       dob|\n",
            "+---------+----------+--------+----------+\n",
            "|    James|          |   Smith|1991-04-01|\n",
            "|  Michael|      Rose|        |2000-05-19|\n",
            "|   Robert|          |Williams|1978-09-05|\n",
            "|    Maria|      Anne|   Jones|1967-12-01|\n",
            "|      Jen|      Mary|   Brown|1980-02-27|\n",
            "+---------+----------+--------+----------+\n",
            "\n"
          ]
        }
      ]
    },
    {
      "cell_type": "code",
      "source": [
        "df.show()"
      ],
      "metadata": {
        "colab": {
          "base_uri": "https://localhost:8080/"
        },
        "id": "inYG0BgpQPi_",
        "outputId": "b645188c-883e-47ee-c5cb-f9a390967cb8"
      },
      "execution_count": null,
      "outputs": [
        {
          "output_type": "stream",
          "name": "stdout",
          "text": [
            "+---------+----------+--------+----------+------+------+\n",
            "|firstname|middlename|lastname|       dob|gender|salary|\n",
            "+---------+----------+--------+----------+------+------+\n",
            "|    James|          |   Smith|1991-04-01|     M|  3000|\n",
            "|  Michael|      Rose|        |2000-05-19|     M|  4000|\n",
            "|   Robert|          |Williams|1978-09-05|     M|  4000|\n",
            "|    Maria|      Anne|   Jones|1967-12-01|     F|  4000|\n",
            "|      Jen|      Mary|   Brown|1980-02-27|     F|    -1|\n",
            "+---------+----------+--------+----------+------+------+\n",
            "\n"
          ]
        }
      ]
    },
    {
      "cell_type": "code",
      "source": [
        "from pyspark.sql.types import StructType,StructField\n",
        "from pyspark.sql.types import StringType, IntegerType, ArrayType\n",
        "data=[\n",
        "       ((\"James\",\"\",\"Smith\"),[\"Java\",\"Scala\",\"C++\"],\"OH\",\"M\"),\n",
        "       ((\"Anna\",\"Rose\",\"\"),[\"Spark\",\"Java\",\"C++\"],\"NY\",\"F\"),\n",
        "       ((\"Julia\",\"\",\"Williams\"),[\"CSharp\",\"VB\"],\"OH\",\"F\"),\n",
        "       ((\"Maria\",\"Anne\",\"Jones\"),[\"CSharp\",\"VB\"],\"NY\",\"M\"),\n",
        "       ((\"Jen\",\"Mary\",\"Brown\"),[\"CSharp\",\"VB\"],\"NY\",\"M\"),\n",
        "       ((\"Mike\",\"Mary\",\"Williams\"),[\"Python\",\"VB\"],\"OH\",\"M\")\n",
        "     ]\n",
        "\n",
        "schema=StructType([\n",
        "    StructField('name',StructType([\n",
        "        StructField('firstname',StringType(),True),\n",
        "        StructField('middlename',StringType(),True),\n",
        "        StructField('lastname',StringType(),True)\n",
        "    ])),\n",
        "    StructField('languages',ArrayType(StringType()),True),\n",
        "    StructField('state',StringType(),True),\n",
        "    StructField('gender',StringType(),True)\n",
        "])\n",
        "\n",
        "\n",
        "df=spark.createDataFrame(data,schema)\n",
        "df.printSchema()\n",
        "df.show(truncate=False)"
      ],
      "metadata": {
        "colab": {
          "base_uri": "https://localhost:8080/"
        },
        "id": "qiXNe5qDQXWv",
        "outputId": "b408c015-6152-4a8d-dad5-3e37c6c925b5"
      },
      "execution_count": null,
      "outputs": [
        {
          "output_type": "stream",
          "name": "stdout",
          "text": [
            "root\n",
            " |-- name: struct (nullable = true)\n",
            " |    |-- firstname: string (nullable = true)\n",
            " |    |-- middlename: string (nullable = true)\n",
            " |    |-- lastname: string (nullable = true)\n",
            " |-- languages: array (nullable = true)\n",
            " |    |-- element: string (containsNull = true)\n",
            " |-- state: string (nullable = true)\n",
            " |-- gender: string (nullable = true)\n",
            "\n",
            "+----------------------+------------------+-----+------+\n",
            "|name                  |languages         |state|gender|\n",
            "+----------------------+------------------+-----+------+\n",
            "|{James, , Smith}      |[Java, Scala, C++]|OH   |M     |\n",
            "|{Anna, Rose, }        |[Spark, Java, C++]|NY   |F     |\n",
            "|{Julia, , Williams}   |[CSharp, VB]      |OH   |F     |\n",
            "|{Maria, Anne, Jones}  |[CSharp, VB]      |NY   |M     |\n",
            "|{Jen, Mary, Brown}    |[CSharp, VB]      |NY   |M     |\n",
            "|{Mike, Mary, Williams}|[Python, VB]      |OH   |M     |\n",
            "+----------------------+------------------+-----+------+\n",
            "\n"
          ]
        }
      ]
    },
    {
      "cell_type": "code",
      "source": [
        "df.filter(df.state==\"OH\").show(truncate=False)\n",
        "\n",
        "df.select(df.state==\"OH\").show(truncate=False)"
      ],
      "metadata": {
        "colab": {
          "base_uri": "https://localhost:8080/"
        },
        "id": "CyRoLRpORgj6",
        "outputId": "b21b70f7-79b4-4f94-eba0-36c65edc87f8"
      },
      "execution_count": null,
      "outputs": [
        {
          "output_type": "stream",
          "name": "stdout",
          "text": [
            "+----------------------+------------------+-----+------+\n",
            "|name                  |languages         |state|gender|\n",
            "+----------------------+------------------+-----+------+\n",
            "|{James, , Smith}      |[Java, Scala, C++]|OH   |M     |\n",
            "|{Julia, , Williams}   |[CSharp, VB]      |OH   |F     |\n",
            "|{Mike, Mary, Williams}|[Python, VB]      |OH   |M     |\n",
            "+----------------------+------------------+-----+------+\n",
            "\n",
            "+------------+\n",
            "|(state = OH)|\n",
            "+------------+\n",
            "|true        |\n",
            "|false       |\n",
            "|true        |\n",
            "|false       |\n",
            "|false       |\n",
            "|true        |\n",
            "+------------+\n",
            "\n"
          ]
        }
      ]
    },
    {
      "cell_type": "code",
      "source": [
        "#Not equals condition\n",
        "df.filter(df.state!=\"OH\").show(truncate=False)\n",
        "df.filter(~(df.state==\"OH\")).show(truncate=False)"
      ],
      "metadata": {
        "colab": {
          "base_uri": "https://localhost:8080/"
        },
        "id": "yBck4pQASvQ7",
        "outputId": "d68260f8-2f9e-4df6-f304-ae5575da41b7"
      },
      "execution_count": null,
      "outputs": [
        {
          "output_type": "stream",
          "name": "stdout",
          "text": [
            "+--------------------+------------------+-----+------+\n",
            "|name                |languages         |state|gender|\n",
            "+--------------------+------------------+-----+------+\n",
            "|{Anna, Rose, }      |[Spark, Java, C++]|NY   |F     |\n",
            "|{Maria, Anne, Jones}|[CSharp, VB]      |NY   |M     |\n",
            "|{Jen, Mary, Brown}  |[CSharp, VB]      |NY   |M     |\n",
            "+--------------------+------------------+-----+------+\n",
            "\n",
            "+--------------------+------------------+-----+------+\n",
            "|name                |languages         |state|gender|\n",
            "+--------------------+------------------+-----+------+\n",
            "|{Anna, Rose, }      |[Spark, Java, C++]|NY   |F     |\n",
            "|{Maria, Anne, Jones}|[CSharp, VB]      |NY   |M     |\n",
            "|{Jen, Mary, Brown}  |[CSharp, VB]      |NY   |M     |\n",
            "+--------------------+------------------+-----+------+\n",
            "\n"
          ]
        }
      ]
    },
    {
      "cell_type": "code",
      "source": [
        "#Using SQL col() Function\n",
        "from pyspark.sql.functions import col\n",
        "df.filter(col(\"state\")==\"OH\").show(truncate=False)"
      ],
      "metadata": {
        "colab": {
          "base_uri": "https://localhost:8080/"
        },
        "id": "I9LNQBYBTHCB",
        "outputId": "5c612a09-9eda-4399-c299-793fae343456"
      },
      "execution_count": null,
      "outputs": [
        {
          "output_type": "stream",
          "name": "stdout",
          "text": [
            "+----------------------+------------------+-----+------+\n",
            "|name                  |languages         |state|gender|\n",
            "+----------------------+------------------+-----+------+\n",
            "|{James, , Smith}      |[Java, Scala, C++]|OH   |M     |\n",
            "|{Julia, , Williams}   |[CSharp, VB]      |OH   |F     |\n",
            "|{Mike, Mary, Williams}|[Python, VB]      |OH   |M     |\n",
            "+----------------------+------------------+-----+------+\n",
            "\n"
          ]
        }
      ]
    },
    {
      "cell_type": "code",
      "source": [
        "# Using SQL Expression\n",
        "df.filter(\"gender=='M'\").show()\n",
        "df.filter(\"gender != 'M'\").show()\n",
        "df.filter(\"gender <> 'M'\").show()"
      ],
      "metadata": {
        "colab": {
          "base_uri": "https://localhost:8080/"
        },
        "id": "AouiztAZTUWz",
        "outputId": "fd3e2c23-c43c-4893-ff21-86d4aa9b4190"
      },
      "execution_count": null,
      "outputs": [
        {
          "output_type": "stream",
          "name": "stdout",
          "text": [
            "+--------------------+------------------+-----+------+\n",
            "|                name|         languages|state|gender|\n",
            "+--------------------+------------------+-----+------+\n",
            "|    {James, , Smith}|[Java, Scala, C++]|   OH|     M|\n",
            "|{Maria, Anne, Jones}|      [CSharp, VB]|   NY|     M|\n",
            "|  {Jen, Mary, Brown}|      [CSharp, VB]|   NY|     M|\n",
            "|{Mike, Mary, Will...|      [Python, VB]|   OH|     M|\n",
            "+--------------------+------------------+-----+------+\n",
            "\n",
            "+-------------------+------------------+-----+------+\n",
            "|               name|         languages|state|gender|\n",
            "+-------------------+------------------+-----+------+\n",
            "|     {Anna, Rose, }|[Spark, Java, C++]|   NY|     F|\n",
            "|{Julia, , Williams}|      [CSharp, VB]|   OH|     F|\n",
            "+-------------------+------------------+-----+------+\n",
            "\n",
            "+-------------------+------------------+-----+------+\n",
            "|               name|         languages|state|gender|\n",
            "+-------------------+------------------+-----+------+\n",
            "|     {Anna, Rose, }|[Spark, Java, C++]|   NY|     F|\n",
            "|{Julia, , Williams}|      [CSharp, VB]|   OH|     F|\n",
            "+-------------------+------------------+-----+------+\n",
            "\n"
          ]
        }
      ]
    },
    {
      "cell_type": "code",
      "source": [
        "#Filter multiple conditions\n",
        "df.filter( (df.state==\"OH\") & (df.gender==\"M\") ).show(truncate=False)\n",
        "df.filter( (df.state==\"OH\") | (df.gender==\"M\") ).show(truncate=False)\n",
        "df.filter( ~(df.state==\"OH\")  | ~(df.gender==\"M\") ).show(truncate=False)"
      ],
      "metadata": {
        "colab": {
          "base_uri": "https://localhost:8080/"
        },
        "id": "rkeN_3BUTocG",
        "outputId": "28e5f6de-e70e-4a94-c3e5-69ab40ff224e"
      },
      "execution_count": null,
      "outputs": [
        {
          "output_type": "stream",
          "name": "stdout",
          "text": [
            "+----------------------+------------------+-----+------+\n",
            "|name                  |languages         |state|gender|\n",
            "+----------------------+------------------+-----+------+\n",
            "|{James, , Smith}      |[Java, Scala, C++]|OH   |M     |\n",
            "|{Mike, Mary, Williams}|[Python, VB]      |OH   |M     |\n",
            "+----------------------+------------------+-----+------+\n",
            "\n",
            "+----------------------+------------------+-----+------+\n",
            "|name                  |languages         |state|gender|\n",
            "+----------------------+------------------+-----+------+\n",
            "|{James, , Smith}      |[Java, Scala, C++]|OH   |M     |\n",
            "|{Julia, , Williams}   |[CSharp, VB]      |OH   |F     |\n",
            "|{Maria, Anne, Jones}  |[CSharp, VB]      |NY   |M     |\n",
            "|{Jen, Mary, Brown}    |[CSharp, VB]      |NY   |M     |\n",
            "|{Mike, Mary, Williams}|[Python, VB]      |OH   |M     |\n",
            "+----------------------+------------------+-----+------+\n",
            "\n",
            "+--------------------+------------------+-----+------+\n",
            "|name                |languages         |state|gender|\n",
            "+--------------------+------------------+-----+------+\n",
            "|{Anna, Rose, }      |[Spark, Java, C++]|NY   |F     |\n",
            "|{Julia, , Williams} |[CSharp, VB]      |OH   |F     |\n",
            "|{Maria, Anne, Jones}|[CSharp, VB]      |NY   |M     |\n",
            "|{Jen, Mary, Brown}  |[CSharp, VB]      |NY   |M     |\n",
            "+--------------------+------------------+-----+------+\n",
            "\n"
          ]
        }
      ]
    },
    {
      "cell_type": "code",
      "source": [
        "li=[\"OH\",\"CA\",\"DE\"]\n",
        "df.filter(df.state.isin(li)).show()\n",
        "df.show()"
      ],
      "metadata": {
        "colab": {
          "base_uri": "https://localhost:8080/"
        },
        "id": "iSezjUqYT_G7",
        "outputId": "d841ff39-936f-4752-da4a-36151074ae67"
      },
      "execution_count": null,
      "outputs": [
        {
          "output_type": "stream",
          "name": "stdout",
          "text": [
            "+--------------------+------------------+-----+------+\n",
            "|                name|         languages|state|gender|\n",
            "+--------------------+------------------+-----+------+\n",
            "|    {James, , Smith}|[Java, Scala, C++]|   OH|     M|\n",
            "| {Julia, , Williams}|      [CSharp, VB]|   OH|     F|\n",
            "|{Mike, Mary, Will...|      [Python, VB]|   OH|     M|\n",
            "+--------------------+------------------+-----+------+\n",
            "\n",
            "+--------------------+------------------+-----+------+\n",
            "|                name|         languages|state|gender|\n",
            "+--------------------+------------------+-----+------+\n",
            "|    {James, , Smith}|[Java, Scala, C++]|   OH|     M|\n",
            "|      {Anna, Rose, }|[Spark, Java, C++]|   NY|     F|\n",
            "| {Julia, , Williams}|      [CSharp, VB]|   OH|     F|\n",
            "|{Maria, Anne, Jones}|      [CSharp, VB]|   NY|     M|\n",
            "|  {Jen, Mary, Brown}|      [CSharp, VB]|   NY|     M|\n",
            "|{Mike, Mary, Will...|      [Python, VB]|   OH|     M|\n",
            "+--------------------+------------------+-----+------+\n",
            "\n"
          ]
        }
      ]
    },
    {
      "cell_type": "code",
      "source": [
        "df.filter(~df.state.isin(li)).show()\n",
        "df.filter(df.state.isin(li)==False).show()\n",
        "df.filter(~df.state.isin(li)==\"NY\").show()"
      ],
      "metadata": {
        "colab": {
          "base_uri": "https://localhost:8080/"
        },
        "id": "n7e_V_-gUDY-",
        "outputId": "04a3d114-ed23-4a35-ce85-1737fcc141fa"
      },
      "execution_count": null,
      "outputs": [
        {
          "output_type": "stream",
          "name": "stdout",
          "text": [
            "+--------------------+------------------+-----+------+\n",
            "|                name|         languages|state|gender|\n",
            "+--------------------+------------------+-----+------+\n",
            "|      {Anna, Rose, }|[Spark, Java, C++]|   NY|     F|\n",
            "|{Maria, Anne, Jones}|      [CSharp, VB]|   NY|     M|\n",
            "|  {Jen, Mary, Brown}|      [CSharp, VB]|   NY|     M|\n",
            "+--------------------+------------------+-----+------+\n",
            "\n",
            "+--------------------+------------------+-----+------+\n",
            "|                name|         languages|state|gender|\n",
            "+--------------------+------------------+-----+------+\n",
            "|      {Anna, Rose, }|[Spark, Java, C++]|   NY|     F|\n",
            "|{Maria, Anne, Jones}|      [CSharp, VB]|   NY|     M|\n",
            "|  {Jen, Mary, Brown}|      [CSharp, VB]|   NY|     M|\n",
            "+--------------------+------------------+-----+------+\n",
            "\n",
            "+----+---------+-----+------+\n",
            "|name|languages|state|gender|\n",
            "+----+---------+-----+------+\n",
            "+----+---------+-----+------+\n",
            "\n"
          ]
        }
      ]
    },
    {
      "cell_type": "code",
      "source": [
        "df.filter(df.name.firstname.startswith(\"J\")).show()\n",
        "df.filter(df.name.middlename.startswith(\"M\")).show()"
      ],
      "metadata": {
        "colab": {
          "base_uri": "https://localhost:8080/"
        },
        "id": "sAKPfXf_UMu8",
        "outputId": "17b432bf-7376-474d-a9fc-8bdcb7b02f18"
      },
      "execution_count": null,
      "outputs": [
        {
          "output_type": "stream",
          "name": "stdout",
          "text": [
            "+-------------------+------------------+-----+------+\n",
            "|               name|         languages|state|gender|\n",
            "+-------------------+------------------+-----+------+\n",
            "|   {James, , Smith}|[Java, Scala, C++]|   OH|     M|\n",
            "|{Julia, , Williams}|      [CSharp, VB]|   OH|     F|\n",
            "| {Jen, Mary, Brown}|      [CSharp, VB]|   NY|     M|\n",
            "+-------------------+------------------+-----+------+\n",
            "\n",
            "+--------------------+------------+-----+------+\n",
            "|                name|   languages|state|gender|\n",
            "+--------------------+------------+-----+------+\n",
            "|  {Jen, Mary, Brown}|[CSharp, VB]|   NY|     M|\n",
            "|{Mike, Mary, Will...|[Python, VB]|   OH|     M|\n",
            "+--------------------+------------+-----+------+\n",
            "\n"
          ]
        }
      ]
    },
    {
      "cell_type": "code",
      "source": [
        "df.filter(df.name.firstname.endswith(\"i\")).show()"
      ],
      "metadata": {
        "colab": {
          "base_uri": "https://localhost:8080/"
        },
        "id": "tBhQlP3BU0Y3",
        "outputId": "64bf0a25-984d-40a6-9e63-87c872ab62a7"
      },
      "execution_count": null,
      "outputs": [
        {
          "output_type": "stream",
          "name": "stdout",
          "text": [
            "+----+---------+-----+------+\n",
            "|name|languages|state|gender|\n",
            "+----+---------+-----+------+\n",
            "+----+---------+-----+------+\n",
            "\n"
          ]
        }
      ]
    },
    {
      "cell_type": "code",
      "source": [
        "df.filter(df.state.contains(\"H\")).show()"
      ],
      "metadata": {
        "colab": {
          "base_uri": "https://localhost:8080/"
        },
        "id": "Ti7dzsvjVBNX",
        "outputId": "72739270-a16d-486e-8fa4-8dcc0796f845"
      },
      "execution_count": null,
      "outputs": [
        {
          "output_type": "stream",
          "name": "stdout",
          "text": [
            "+--------------------+------------------+-----+------+\n",
            "|                name|         languages|state|gender|\n",
            "+--------------------+------------------+-----+------+\n",
            "|    {James, , Smith}|[Java, Scala, C++]|   OH|     M|\n",
            "| {Julia, , Williams}|      [CSharp, VB]|   OH|     F|\n",
            "|{Mike, Mary, Will...|      [Python, VB]|   OH|     M|\n",
            "+--------------------+------------------+-----+------+\n",
            "\n"
          ]
        }
      ]
    },
    {
      "cell_type": "code",
      "source": [
        "data2=[(2,\"Michael Rose\"),(3,\"Robert Williams\"),(4,\"Rames Rose\"),(5,\"Rames rose\")]\n",
        "columns2=[\"id\",\"name\"]\n",
        "df=spark.createDataFrame(data=data2,schema=columns2)\n",
        "df.show()"
      ],
      "metadata": {
        "colab": {
          "base_uri": "https://localhost:8080/"
        },
        "id": "D9gc5fbaVHXk",
        "outputId": "5f14c864-4dac-4122-a2ad-8a9ef835872a"
      },
      "execution_count": null,
      "outputs": [
        {
          "output_type": "stream",
          "name": "stdout",
          "text": [
            "+---+---------------+\n",
            "| id|           name|\n",
            "+---+---------------+\n",
            "|  2|   Michael Rose|\n",
            "|  3|Robert Williams|\n",
            "|  4|     Rames Rose|\n",
            "|  5|     Rames rose|\n",
            "+---+---------------+\n",
            "\n"
          ]
        }
      ]
    },
    {
      "cell_type": "code",
      "source": [
        "df.filter(df.name.like(\"%rose%\")).show()\n",
        "df.filter(df.name.contains(\"rose\")).show()"
      ],
      "metadata": {
        "colab": {
          "base_uri": "https://localhost:8080/"
        },
        "id": "lFLGugPxVkrp",
        "outputId": "af48a2a7-59c0-425c-e138-11f3d93aba55"
      },
      "execution_count": null,
      "outputs": [
        {
          "output_type": "stream",
          "name": "stdout",
          "text": [
            "+---+----------+\n",
            "| id|      name|\n",
            "+---+----------+\n",
            "|  5|Rames rose|\n",
            "+---+----------+\n",
            "\n",
            "+---+----------+\n",
            "| id|      name|\n",
            "+---+----------+\n",
            "|  5|Rames rose|\n",
            "+---+----------+\n",
            "\n"
          ]
        }
      ]
    },
    {
      "cell_type": "code",
      "source": [
        "df.filter(df.name.rlike(\"(?i)^*rose$\")).show()"
      ],
      "metadata": {
        "colab": {
          "base_uri": "https://localhost:8080/"
        },
        "id": "k1saZu14Vwwy",
        "outputId": "e4b66cba-9420-475f-d23c-8a1d18a5bce7"
      },
      "execution_count": null,
      "outputs": [
        {
          "output_type": "stream",
          "name": "stdout",
          "text": [
            "+---+------------+\n",
            "| id|        name|\n",
            "+---+------------+\n",
            "|  2|Michael Rose|\n",
            "|  4|  Rames Rose|\n",
            "|  5|  Rames rose|\n",
            "+---+------------+\n",
            "\n"
          ]
        }
      ]
    },
    {
      "cell_type": "code",
      "source": [
        "from pyspark.sql.types import StructType,StructField\n",
        "from pyspark.sql.types import StringType, IntegerType, ArrayType\n",
        "data=[\n",
        "       ((\"James\",\"\",\"Smith\"),[\"Java\",\"Scala\",\"C++\"],\"OH\",\"M\"),\n",
        "       ((\"Anna\",\"Rose\",\"\"),[\"Spark\",\"Java\",\"C++\"],\"NY\",\"F\"),\n",
        "       ((\"Julia\",\"\",\"Williams\"),[\"CSharp\",\"VB\"],\"OH\",\"F\"),\n",
        "       ((\"Maria\",\"Anne\",\"Jones\"),[\"CSharp\",\"VB\"],\"NY\",\"M\"),\n",
        "       ((\"Jen\",\"Mary\",\"Brown\"),[\"CSharp\",\"VB\"],\"NY\",\"M\"),\n",
        "       ((\"Mike\",\"Mary\",\"Williams\"),[\"Python\",\"VB\"],\"OH\",\"M\")\n",
        "     ]\n",
        "\n",
        "schema=StructType([\n",
        "    StructField('name',StructType([\n",
        "        StructField('firstname',StringType(),True),\n",
        "        StructField('middlename',StringType(),True),\n",
        "        StructField('lastname',StringType(),True)\n",
        "    ])),\n",
        "    StructField('languages',ArrayType(StringType()),True),\n",
        "    StructField('state',StringType(),True),\n",
        "    StructField('gender',StringType(),True)\n",
        "])\n",
        "\n",
        "\n",
        "df=spark.createDataFrame(data=data,schema=schema)\n",
        "df.printSchema()\n",
        "df.show(truncate=False)"
      ],
      "metadata": {
        "colab": {
          "base_uri": "https://localhost:8080/"
        },
        "id": "dw-pXrraXCJS",
        "outputId": "1eae7138-cf37-48c3-f8ac-33a3284a77c4"
      },
      "execution_count": null,
      "outputs": [
        {
          "output_type": "stream",
          "name": "stdout",
          "text": [
            "root\n",
            " |-- name: struct (nullable = true)\n",
            " |    |-- firstname: string (nullable = true)\n",
            " |    |-- middlename: string (nullable = true)\n",
            " |    |-- lastname: string (nullable = true)\n",
            " |-- languages: array (nullable = true)\n",
            " |    |-- element: string (containsNull = true)\n",
            " |-- state: string (nullable = true)\n",
            " |-- gender: string (nullable = true)\n",
            "\n",
            "+----------------------+------------------+-----+------+\n",
            "|name                  |languages         |state|gender|\n",
            "+----------------------+------------------+-----+------+\n",
            "|{James, , Smith}      |[Java, Scala, C++]|OH   |M     |\n",
            "|{Anna, Rose, }        |[Spark, Java, C++]|NY   |F     |\n",
            "|{Julia, , Williams}   |[CSharp, VB]      |OH   |F     |\n",
            "|{Maria, Anne, Jones}  |[CSharp, VB]      |NY   |M     |\n",
            "|{Jen, Mary, Brown}    |[CSharp, VB]      |NY   |M     |\n",
            "|{Mike, Mary, Williams}|[Python, VB]      |OH   |M     |\n",
            "+----------------------+------------------+-----+------+\n",
            "\n"
          ]
        }
      ]
    },
    {
      "cell_type": "code",
      "source": [
        "from pyspark.sql.functions import array_contains\n",
        "df.filter(array_contains(df.languages,\"Java\")).show()"
      ],
      "metadata": {
        "colab": {
          "base_uri": "https://localhost:8080/"
        },
        "id": "9ry_VCavYbyw",
        "outputId": "93cd5e03-d5bc-4cb3-f498-2483ccce8f70"
      },
      "execution_count": null,
      "outputs": [
        {
          "output_type": "stream",
          "name": "stdout",
          "text": [
            "+----------------+------------------+-----+------+\n",
            "|            name|         languages|state|gender|\n",
            "+----------------+------------------+-----+------+\n",
            "|{James, , Smith}|[Java, Scala, C++]|   OH|     M|\n",
            "|  {Anna, Rose, }|[Spark, Java, C++]|   NY|     F|\n",
            "+----------------+------------------+-----+------+\n",
            "\n"
          ]
        }
      ]
    },
    {
      "cell_type": "code",
      "source": [
        "#  sorting in sql.spark\n",
        "\n",
        "# Sort the DataFrame by the \"state\" column in ascending order\n",
        "df.sort(\"state\").show()\n",
        "\n",
        "# Sort the DataFrame by the \"state\" column in descending order\n",
        "df.sort(col(\"state\").desc()).show()\n",
        "\n",
        "# Sort the DataFrame by multiple columns\n",
        "df.sort(\"state\", \"gender\").show()\n",
        "\n",
        "# Sort the DataFrame by multiple columns with different sort orders\n",
        "df.sort(col(\"state\").asc(), col(\"gender\").desc()).show()\n"
      ],
      "metadata": {
        "id": "IHKMgivDYixL",
        "colab": {
          "base_uri": "https://localhost:8080/"
        },
        "outputId": "3bc25587-a550-455d-8b90-a40a6b2b2749"
      },
      "execution_count": null,
      "outputs": [
        {
          "output_type": "stream",
          "name": "stdout",
          "text": [
            "+--------------------+------------------+-----+------+\n",
            "|                name|         languages|state|gender|\n",
            "+--------------------+------------------+-----+------+\n",
            "|      {Anna, Rose, }|[Spark, Java, C++]|   NY|     F|\n",
            "|{Maria, Anne, Jones}|      [CSharp, VB]|   NY|     M|\n",
            "|  {Jen, Mary, Brown}|      [CSharp, VB]|   NY|     M|\n",
            "|    {James, , Smith}|[Java, Scala, C++]|   OH|     M|\n",
            "|{Mike, Mary, Will...|      [Python, VB]|   OH|     M|\n",
            "| {Julia, , Williams}|      [CSharp, VB]|   OH|     F|\n",
            "+--------------------+------------------+-----+------+\n",
            "\n",
            "+--------------------+------------------+-----+------+\n",
            "|                name|         languages|state|gender|\n",
            "+--------------------+------------------+-----+------+\n",
            "|    {James, , Smith}|[Java, Scala, C++]|   OH|     M|\n",
            "|{Mike, Mary, Will...|      [Python, VB]|   OH|     M|\n",
            "| {Julia, , Williams}|      [CSharp, VB]|   OH|     F|\n",
            "|{Maria, Anne, Jones}|      [CSharp, VB]|   NY|     M|\n",
            "|      {Anna, Rose, }|[Spark, Java, C++]|   NY|     F|\n",
            "|  {Jen, Mary, Brown}|      [CSharp, VB]|   NY|     M|\n",
            "+--------------------+------------------+-----+------+\n",
            "\n",
            "+--------------------+------------------+-----+------+\n",
            "|                name|         languages|state|gender|\n",
            "+--------------------+------------------+-----+------+\n",
            "|      {Anna, Rose, }|[Spark, Java, C++]|   NY|     F|\n",
            "|{Maria, Anne, Jones}|      [CSharp, VB]|   NY|     M|\n",
            "|  {Jen, Mary, Brown}|      [CSharp, VB]|   NY|     M|\n",
            "| {Julia, , Williams}|      [CSharp, VB]|   OH|     F|\n",
            "|{Mike, Mary, Will...|      [Python, VB]|   OH|     M|\n",
            "|    {James, , Smith}|[Java, Scala, C++]|   OH|     M|\n",
            "+--------------------+------------------+-----+------+\n",
            "\n",
            "+--------------------+------------------+-----+------+\n",
            "|                name|         languages|state|gender|\n",
            "+--------------------+------------------+-----+------+\n",
            "|{Maria, Anne, Jones}|      [CSharp, VB]|   NY|     M|\n",
            "|  {Jen, Mary, Brown}|      [CSharp, VB]|   NY|     M|\n",
            "|      {Anna, Rose, }|[Spark, Java, C++]|   NY|     F|\n",
            "|{Mike, Mary, Will...|      [Python, VB]|   OH|     M|\n",
            "|    {James, , Smith}|[Java, Scala, C++]|   OH|     M|\n",
            "| {Julia, , Williams}|      [CSharp, VB]|   OH|     F|\n",
            "+--------------------+------------------+-----+------+\n",
            "\n"
          ]
        }
      ]
    },
    {
      "cell_type": "code",
      "source": [],
      "metadata": {
        "id": "83OaTsA4qZEg"
      },
      "execution_count": null,
      "outputs": []
    }
  ]
}