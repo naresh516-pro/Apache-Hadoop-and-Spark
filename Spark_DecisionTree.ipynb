{
  "nbformat": 4,
  "nbformat_minor": 0,
  "metadata": {
    "colab": {
      "provenance": []
    },
    "kernelspec": {
      "name": "python3",
      "display_name": "Python 3"
    },
    "language_info": {
      "name": "python"
    }
  },
  "cells": [
    {
      "cell_type": "code",
      "source": [
        "!pip install pyspark"
      ],
      "metadata": {
        "colab": {
          "base_uri": "https://localhost:8080/"
        },
        "id": "_GaY6x-DLbkm",
        "outputId": "1f3baee6-740c-4ddf-b33c-b4ee28e9243d"
      },
      "execution_count": 16,
      "outputs": [
        {
          "output_type": "stream",
          "name": "stdout",
          "text": [
            "Requirement already satisfied: pyspark in /usr/local/lib/python3.10/dist-packages (3.5.3)\n",
            "Requirement already satisfied: py4j==0.10.9.7 in /usr/local/lib/python3.10/dist-packages (from pyspark) (0.10.9.7)\n"
          ]
        }
      ]
    },
    {
      "cell_type": "code",
      "source": [
        "from pyspark.sql import SparkSession\n",
        "from pyspark.ml.feature import VectorAssembler\n",
        "from pyspark.ml.classification import DecisionTreeClassifier\n",
        "from pyspark.ml.evaluation import MulticlassClassificationEvaluator"
      ],
      "metadata": {
        "id": "1x8SNhiXL5X0"
      },
      "execution_count": 17,
      "outputs": []
    },
    {
      "cell_type": "code",
      "source": [
        "# Create a SparkSession\n",
        "spark = SparkSession.builder.appName(\"IrisDecisionTree\").getOrCreate()"
      ],
      "metadata": {
        "id": "b426hbfPLboP"
      },
      "execution_count": 18,
      "outputs": []
    },
    {
      "cell_type": "code",
      "source": [
        "# Load the dataset\n",
        "df = spark.read.csv(\"/content/iris.csv\", header=True, inferSchema=True)\n",
        "df.show()"
      ],
      "metadata": {
        "colab": {
          "base_uri": "https://localhost:8080/"
        },
        "id": "OuaRWSLTLbr0",
        "outputId": "fd99e2ea-6788-4273-da66-67e8540f2685"
      },
      "execution_count": 19,
      "outputs": [
        {
          "output_type": "stream",
          "name": "stdout",
          "text": [
            "+------------+-----------+------------+-----------+-------+\n",
            "|Sepal.Length|Sepal.Width|Petal.Length|Petal.Width|Species|\n",
            "+------------+-----------+------------+-----------+-------+\n",
            "|         5.1|        3.5|         1.4|        0.2| setosa|\n",
            "|         4.9|        3.0|         1.4|        0.2| setosa|\n",
            "|         4.7|        3.2|         1.3|        0.2| setosa|\n",
            "|         4.6|        3.1|         1.5|        0.2| setosa|\n",
            "|         5.0|        3.6|         1.4|        0.2| setosa|\n",
            "|         5.4|        3.9|         1.7|        0.4| setosa|\n",
            "|         4.6|        3.4|         1.4|        0.3| setosa|\n",
            "|         5.0|        3.4|         1.5|        0.2| setosa|\n",
            "|         4.4|        2.9|         1.4|        0.2| setosa|\n",
            "|         4.9|        3.1|         1.5|        0.1| setosa|\n",
            "|         5.4|        3.7|         1.5|        0.2| setosa|\n",
            "|         4.8|        3.4|         1.6|        0.2| setosa|\n",
            "|         4.8|        3.0|         1.4|        0.1| setosa|\n",
            "|         4.3|        3.0|         1.1|        0.1| setosa|\n",
            "|         5.8|        4.0|         1.2|        0.2| setosa|\n",
            "|         5.7|        4.4|         1.5|        0.4| setosa|\n",
            "|         5.4|        3.9|         1.3|        0.4| setosa|\n",
            "|         5.1|        3.5|         1.4|        0.3| setosa|\n",
            "|         5.7|        3.8|         1.7|        0.3| setosa|\n",
            "|         5.1|        3.8|         1.5|        0.3| setosa|\n",
            "+------------+-----------+------------+-----------+-------+\n",
            "only showing top 20 rows\n",
            "\n"
          ]
        }
      ]
    },
    {
      "cell_type": "code",
      "source": [
        "\n",
        "# Prepare the data\n",
        "feature_columns = df.columns[:-1]  # Exclude the target variable\n",
        "\n",
        "# Replace periods in column names with underscores\n",
        "for i in range(len(feature_columns)):\n",
        "    feature_columns[i] = feature_columns[i].replace(\".\", \"_\")\n",
        "    df = df.withColumnRenamed(df.columns[i], feature_columns[i])  # Rename columns in DataFrame\n",
        "\n",
        "assembler = VectorAssembler(inputCols=feature_columns, outputCol=\"features\")\n",
        "df = assembler.transform(df)\n",
        "df.show()"
      ],
      "metadata": {
        "colab": {
          "base_uri": "https://localhost:8080/"
        },
        "id": "8y3OOjy5Lb0z",
        "outputId": "bdf3162c-b612-4450-c419-0e066cb08f27"
      },
      "execution_count": 20,
      "outputs": [
        {
          "output_type": "stream",
          "name": "stdout",
          "text": [
            "+------------+-----------+------------+-----------+-------+-----------------+\n",
            "|Sepal_Length|Sepal_Width|Petal_Length|Petal_Width|Species|         features|\n",
            "+------------+-----------+------------+-----------+-------+-----------------+\n",
            "|         5.1|        3.5|         1.4|        0.2| setosa|[5.1,3.5,1.4,0.2]|\n",
            "|         4.9|        3.0|         1.4|        0.2| setosa|[4.9,3.0,1.4,0.2]|\n",
            "|         4.7|        3.2|         1.3|        0.2| setosa|[4.7,3.2,1.3,0.2]|\n",
            "|         4.6|        3.1|         1.5|        0.2| setosa|[4.6,3.1,1.5,0.2]|\n",
            "|         5.0|        3.6|         1.4|        0.2| setosa|[5.0,3.6,1.4,0.2]|\n",
            "|         5.4|        3.9|         1.7|        0.4| setosa|[5.4,3.9,1.7,0.4]|\n",
            "|         4.6|        3.4|         1.4|        0.3| setosa|[4.6,3.4,1.4,0.3]|\n",
            "|         5.0|        3.4|         1.5|        0.2| setosa|[5.0,3.4,1.5,0.2]|\n",
            "|         4.4|        2.9|         1.4|        0.2| setosa|[4.4,2.9,1.4,0.2]|\n",
            "|         4.9|        3.1|         1.5|        0.1| setosa|[4.9,3.1,1.5,0.1]|\n",
            "|         5.4|        3.7|         1.5|        0.2| setosa|[5.4,3.7,1.5,0.2]|\n",
            "|         4.8|        3.4|         1.6|        0.2| setosa|[4.8,3.4,1.6,0.2]|\n",
            "|         4.8|        3.0|         1.4|        0.1| setosa|[4.8,3.0,1.4,0.1]|\n",
            "|         4.3|        3.0|         1.1|        0.1| setosa|[4.3,3.0,1.1,0.1]|\n",
            "|         5.8|        4.0|         1.2|        0.2| setosa|[5.8,4.0,1.2,0.2]|\n",
            "|         5.7|        4.4|         1.5|        0.4| setosa|[5.7,4.4,1.5,0.4]|\n",
            "|         5.4|        3.9|         1.3|        0.4| setosa|[5.4,3.9,1.3,0.4]|\n",
            "|         5.1|        3.5|         1.4|        0.3| setosa|[5.1,3.5,1.4,0.3]|\n",
            "|         5.7|        3.8|         1.7|        0.3| setosa|[5.7,3.8,1.7,0.3]|\n",
            "|         5.1|        3.8|         1.5|        0.3| setosa|[5.1,3.8,1.5,0.3]|\n",
            "+------------+-----------+------------+-----------+-------+-----------------+\n",
            "only showing top 20 rows\n",
            "\n"
          ]
        }
      ]
    },
    {
      "cell_type": "code",
      "source": [
        "# Split the data into training and testing sets\n",
        "(trainingData, testData) = df.randomSplit([0.7, 0.3])"
      ],
      "metadata": {
        "id": "amzVnathLb31"
      },
      "execution_count": 21,
      "outputs": []
    },
    {
      "cell_type": "code",
      "source": [
        "from pyspark.ml.feature import StringIndexer\n",
        "\n",
        "# Create a StringIndexer to convert the 'Species' column to numeric\n",
        "indexer = StringIndexer(inputCol=\"Species\", outputCol=\"Species_index\")\n",
        "\n",
        "# Fit the indexer on the training data and transform both training and testing data\n",
        "# Get the fitted model (StringIndexerModel)\n",
        "model = indexer.fit(trainingData)\n",
        "trainingData = model.transform(trainingData)\n",
        "testData = model.transform(testData)  # Use the fitted model for consistency\n",
        "\n",
        "# Update the Decision Tree Classifier to use the new indexed label column\n",
        "dt = DecisionTreeClassifier(labelCol=\"Species_index\", featuresCol=\"features\")\n",
        "\n",
        "# Now you can train the model\n",
        "model = dt.fit(trainingData)"
      ],
      "metadata": {
        "id": "Qn7zSNEzOUzo"
      },
      "execution_count": 22,
      "outputs": []
    },
    {
      "cell_type": "code",
      "source": [
        "\n",
        "# Make predictions on the test data\n",
        "predictions = model.transform(testData)\n",
        "predictions.show()"
      ],
      "metadata": {
        "colab": {
          "base_uri": "https://localhost:8080/"
        },
        "id": "-BpUuIBhLcBd",
        "outputId": "6bd8ba6b-4ac8-4635-b913-a6e4e15ccc8d"
      },
      "execution_count": 24,
      "outputs": [
        {
          "output_type": "stream",
          "name": "stdout",
          "text": [
            "+------------+-----------+------------+-----------+----------+-----------------+-------------+--------------+-------------+----------+\n",
            "|Sepal_Length|Sepal_Width|Petal_Length|Petal_Width|   Species|         features|Species_index| rawPrediction|  probability|prediction|\n",
            "+------------+-----------+------------+-----------+----------+-----------------+-------------+--------------+-------------+----------+\n",
            "|         4.3|        3.0|         1.1|        0.1|    setosa|[4.3,3.0,1.1,0.1]|          1.0|[0.0,36.0,0.0]|[0.0,1.0,0.0]|       1.0|\n",
            "|         4.5|        2.3|         1.3|        0.3|    setosa|[4.5,2.3,1.3,0.3]|          1.0|[0.0,36.0,0.0]|[0.0,1.0,0.0]|       1.0|\n",
            "|         4.8|        3.0|         1.4|        0.3|    setosa|[4.8,3.0,1.4,0.3]|          1.0|[0.0,36.0,0.0]|[0.0,1.0,0.0]|       1.0|\n",
            "|         4.8|        3.4|         1.6|        0.2|    setosa|[4.8,3.4,1.6,0.2]|          1.0|[0.0,36.0,0.0]|[0.0,1.0,0.0]|       1.0|\n",
            "|         4.9|        2.4|         3.3|        1.0|versicolor|[4.9,2.4,3.3,1.0]|          0.0| [0.0,0.0,1.0]|[0.0,0.0,1.0]|       2.0|\n",
            "|         4.9|        3.0|         1.4|        0.2|    setosa|[4.9,3.0,1.4,0.2]|          1.0|[0.0,36.0,0.0]|[0.0,1.0,0.0]|       1.0|\n",
            "|         5.0|        3.2|         1.2|        0.2|    setosa|[5.0,3.2,1.2,0.2]|          1.0|[0.0,36.0,0.0]|[0.0,1.0,0.0]|       1.0|\n",
            "|         5.0|        3.4|         1.5|        0.2|    setosa|[5.0,3.4,1.5,0.2]|          1.0|[0.0,36.0,0.0]|[0.0,1.0,0.0]|       1.0|\n",
            "|         5.0|        3.5|         1.3|        0.3|    setosa|[5.0,3.5,1.3,0.3]|          1.0|[0.0,36.0,0.0]|[0.0,1.0,0.0]|       1.0|\n",
            "|         5.0|        3.6|         1.4|        0.2|    setosa|[5.0,3.6,1.4,0.2]|          1.0|[0.0,36.0,0.0]|[0.0,1.0,0.0]|       1.0|\n",
            "|         5.1|        3.4|         1.5|        0.2|    setosa|[5.1,3.4,1.5,0.2]|          1.0|[0.0,36.0,0.0]|[0.0,1.0,0.0]|       1.0|\n",
            "|         5.1|        3.7|         1.5|        0.4|    setosa|[5.1,3.7,1.5,0.4]|          1.0|[0.0,36.0,0.0]|[0.0,1.0,0.0]|       1.0|\n",
            "|         5.1|        3.8|         1.9|        0.4|    setosa|[5.1,3.8,1.9,0.4]|          1.0|[0.0,36.0,0.0]|[0.0,1.0,0.0]|       1.0|\n",
            "|         5.2|        2.7|         3.9|        1.4|versicolor|[5.2,2.7,3.9,1.4]|          0.0|[37.0,0.0,0.0]|[1.0,0.0,0.0]|       0.0|\n",
            "|         5.5|        2.4|         3.8|        1.1|versicolor|[5.5,2.4,3.8,1.1]|          0.0|[37.0,0.0,0.0]|[1.0,0.0,0.0]|       0.0|\n",
            "|         5.5|        2.5|         4.0|        1.3|versicolor|[5.5,2.5,4.0,1.3]|          0.0|[37.0,0.0,0.0]|[1.0,0.0,0.0]|       0.0|\n",
            "|         5.5|        3.5|         1.3|        0.2|    setosa|[5.5,3.5,1.3,0.2]|          1.0|[0.0,36.0,0.0]|[0.0,1.0,0.0]|       1.0|\n",
            "|         5.6|        2.5|         3.9|        1.1|versicolor|[5.6,2.5,3.9,1.1]|          0.0|[37.0,0.0,0.0]|[1.0,0.0,0.0]|       0.0|\n",
            "|         5.6|        2.8|         4.9|        2.0| virginica|[5.6,2.8,4.9,2.0]|          2.0|[0.0,0.0,31.0]|[0.0,0.0,1.0]|       2.0|\n",
            "|         5.7|        2.8|         4.5|        1.3|versicolor|[5.7,2.8,4.5,1.3]|          0.0|[37.0,0.0,0.0]|[1.0,0.0,0.0]|       0.0|\n",
            "+------------+-----------+------------+-----------+----------+-----------------+-------------+--------------+-------------+----------+\n",
            "only showing top 20 rows\n",
            "\n"
          ]
        }
      ]
    },
    {
      "cell_type": "code",
      "source": [
        "# Evaluate the model\n",
        "evaluator = MulticlassClassificationEvaluator(labelCol=\"Species_index\", predictionCol=\"prediction\", metricName=\"accuracy\")\n",
        "accuracy = evaluator.evaluate(predictions)"
      ],
      "metadata": {
        "id": "ULErledBLcEt"
      },
      "execution_count": 26,
      "outputs": []
    },
    {
      "cell_type": "code",
      "source": [
        "print(\"Accuracy:\", accuracy)"
      ],
      "metadata": {
        "colab": {
          "base_uri": "https://localhost:8080/"
        },
        "id": "MiFFvuc4LcIE",
        "outputId": "3cbc3f63-4fec-41fc-ec92-62ed8bcd489e"
      },
      "execution_count": 27,
      "outputs": [
        {
          "output_type": "stream",
          "name": "stdout",
          "text": [
            "Accuracy: 0.9069767441860465\n"
          ]
        }
      ]
    },
    {
      "cell_type": "code",
      "source": [
        "\n",
        "# You can also view the decision tree structure if needed\n",
        "print(model.toDebugString)\n",
        "\n"
      ],
      "metadata": {
        "colab": {
          "base_uri": "https://localhost:8080/"
        },
        "id": "gzUlfMeuLcLC",
        "outputId": "1f4b6e42-e17b-4c31-e9aa-b2ce9ce34ae3"
      },
      "execution_count": 29,
      "outputs": [
        {
          "output_type": "stream",
          "name": "stdout",
          "text": [
            "DecisionTreeClassificationModel: uid=DecisionTreeClassifier_245271efc5d0, depth=4, numNodes=9, numClasses=3, numFeatures=4\n",
            "  If (feature 2 <= 2.45)\n",
            "   Predict: 1.0\n",
            "  Else (feature 2 > 2.45)\n",
            "   If (feature 3 <= 1.75)\n",
            "    If (feature 2 <= 5.15)\n",
            "     If (feature 0 <= 4.95)\n",
            "      Predict: 2.0\n",
            "     Else (feature 0 > 4.95)\n",
            "      Predict: 0.0\n",
            "    Else (feature 2 > 5.15)\n",
            "     Predict: 2.0\n",
            "   Else (feature 3 > 1.75)\n",
            "    Predict: 2.0\n",
            "\n"
          ]
        }
      ]
    }
  ]
}